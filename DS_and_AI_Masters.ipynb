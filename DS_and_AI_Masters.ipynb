{
  "nbformat": 4,
  "nbformat_minor": 0,
  "metadata": {
    "colab": {
      "provenance": [],
      "authorship_tag": "ABX9TyPsqiWi0L1prECF43A8w/bI",
      "include_colab_link": true
    },
    "kernelspec": {
      "name": "python3",
      "display_name": "Python 3"
    },
    "language_info": {
      "name": "python"
    }
  },
  "cells": [
    {
      "cell_type": "markdown",
      "metadata": {
        "id": "view-in-github",
        "colab_type": "text"
      },
      "source": [
        "<a href=\"https://colab.research.google.com/github/Rohith0750/Ds-And-Ai-ml-From-Scrartch/blob/main/DS_and_AI_Masters.ipynb\" target=\"_parent\"><img src=\"https://colab.research.google.com/assets/colab-badge.svg\" alt=\"Open In Colab\"/></a>"
      ]
    },
    {
      "cell_type": "code",
      "execution_count": null,
      "metadata": {
        "id": "udV0USWwpk0f"
      },
      "outputs": [],
      "source": [
        "a=10\n",
        "print(a)\n",
        "type(a)"
      ]
    },
    {
      "cell_type": "code",
      "source": [
        "b=\"I am a boy\"\n",
        "type(b)\n",
        "c=\"10.5\"\n",
        "d=True\n",
        "print(type(d))\n",
        "print(type(c))"
      ],
      "metadata": {
        "id": "ijSEMdOI4tq4",
        "colab": {
          "base_uri": "https://localhost:8080/"
        },
        "outputId": "a1fe973e-d7d3-49c3-801e-2fd4c12c7902"
      },
      "execution_count": 16,
      "outputs": [
        {
          "output_type": "stream",
          "name": "stdout",
          "text": [
            "<class 'bool'>\n",
            "<class 'str'>\n"
          ]
        }
      ]
    },
    {
      "cell_type": "markdown",
      "source": [
        "Variables are the temporary storage space where we can store the values ,we can keep changeing the values.\n",
        "\n",
        "a=10\n",
        "a is the the variable\n",
        "\n",
        "\n",
        "**Rules for Python variables:**\n",
        "1.A variable name must start with a letter or the underscore character.\n",
        "2.A variable name cannot start with a number.\n",
        "3.A variable name can only contain alpha-numeric characters and underscores (A-z, 0-9, and _ ).\n",
        "4.Variable names are case-sensitive (age, Age and AGE are three different variables).\n"
      ],
      "metadata": {
        "id": "7XA8QtdV2oWv"
      }
    },
    {
      "cell_type": "markdown",
      "source": [
        "**Keywords**:Special reserved words which convey special meaning .\n",
        "example:def , ifelse ,if ,in,break,finally,lambda.\n",
        "\n",
        "\n",
        "*   It cannot be used as the variable\n"
      ],
      "metadata": {
        "id": "EyonFSNc33po"
      }
    },
    {
      "cell_type": "markdown",
      "source": [
        "**type**: It is uses to find the type of the variable\n",
        "print(type(c))  --> Even though it is a int but we kept in quotes so it is String"
      ],
      "metadata": {
        "id": "4IhnMQzu5kud"
      }
    },
    {
      "cell_type": "code",
      "source": [
        "def sum_function(a,b):\n",
        "  c=a+b\n",
        "  return c\n",
        "\n",
        "sum_function(3,4)"
      ],
      "metadata": {
        "id": "CcFWRp0j2kuP"
      },
      "execution_count": null,
      "outputs": []
    },
    {
      "cell_type": "markdown",
      "source": [
        "**Function** : It is a block of code only runs when it is called.\n",
        "how to create a function-->\n",
        "use *def* keyword\n",
        "# syntax\n",
        "def Function_name(paramaters):\n",
        "           block of code\n",
        "function_name(values)\n",
        "\n",
        "\n",
        "Example : folow cell[9]--> Above one\n",
        "\n"
      ],
      "metadata": {
        "id": "4IMVt0nL8e_S"
      }
    },
    {
      "cell_type": "code",
      "source": [
        "# Data Types in python\n",
        "name = \"Rohith\"\n",
        "age = 20\n",
        "CGPA=8.44"
      ],
      "metadata": {
        "id": "RMbHI3aEhv8D"
      },
      "execution_count": null,
      "outputs": []
    },
    {
      "cell_type": "markdown",
      "source": [
        "**Data Types ** It describes the which type of data is stored.\n",
        "---\n",
        "*   There Are 5 different types of data i.e Numeric ,Dictionary , Boolean ,    set , Sequence Type .\n",
        "*   In Numeric dataType we have int , float , Complex Numbers\n",
        "*   In sequence datatype -->Strings , Tuple , List"
      ],
      "metadata": {
        "id": "YW6d4hy9h60p"
      }
    },
    {
      "cell_type": "code",
      "source": [
        "name_1=input()\n",
        "print(name_1)\n",
        "\n",
        "age = input()\n",
        "print(age)\n",
        "print(type(age))\n",
        "\n",
        "#Typecasting to int\n",
        "age_1=int(input())\n",
        "print(age_1)\n",
        "print(type(age_1))\n"
      ],
      "metadata": {
        "id": "VMx-5q3olCc4",
        "colab": {
          "base_uri": "https://localhost:8080/"
        },
        "outputId": "468099ef-8560-4af5-8235-4615a55afa33"
      },
      "execution_count": 18,
      "outputs": [
        {
          "output_type": "stream",
          "name": "stdout",
          "text": [
            "21\n",
            "21\n",
            "21\n",
            "21\n",
            "<class 'str'>\n",
            "21\n",
            "21\n",
            "<class 'int'>\n"
          ]
        }
      ]
    },
    {
      "cell_type": "markdown",
      "source": [
        "`input() Keyboard` : user input is primarily obtained using the input() function. This function pauses the program execution and waits for the user to type something and press Enter.\n",
        "\n",
        "*  Whatever we type is always returned as a string\n",
        "*  To convert into any other type use typecasting\n",
        "*   In above cell to convert to int we use type casting in the input sentance\n",
        "only."
      ],
      "metadata": {
        "id": "AvwftmzYnvbz"
      }
    },
    {
      "cell_type": "code",
      "source": [
        "var_1=\"2.5\"\n",
        "print(type(var_1))\n",
        "\n",
        "# int(var_1)# Error will occur in this beacuse typecastinf has some rules ,For this we should convert into float 1st and then to int , Thereby no error .To typecasted we should assign the new variable name therfore the typecasting will work.\n",
        "\n",
        "var_new=int(float(var_1))\n",
        "print(var_new )\n",
        "print(type(var_new))"
      ],
      "metadata": {
        "id": "24ASyIv_rTpi"
      },
      "execution_count": null,
      "outputs": []
    },
    {
      "cell_type": "markdown",
      "source": [
        "**Typecasting**\n",
        "*   Widening Casting (automatically) - converting a smaller type to a larger   type size  \n",
        "byte -> short -> char -> int -> long -> float -> double\n",
        "\n",
        "Narrowing Casting (manually) - converting a larger type to a smaller size type  \n",
        "double -> float -> long -> int -> char -> short -> byte"
      ],
      "metadata": {
        "id": "QWMBv0HIs5tk"
      }
    },
    {
      "cell_type": "code",
      "source": [
        "# Strings\n",
        "\n",
        "String_var=\"Rohith S D\"\n",
        "#to access it\n",
        "(String_var[0])\n",
        "print(String_var[-3])\n",
        "\n",
        "# we cannot chage the index letter like\n",
        "#print(String_var[0]='l') # this is a error\n",
        "# Beacuse Strings are immutable in nature , Hence we cannot change\n",
        "a_1=\"Rohith\"\n",
        "b1=\"S D\"\n",
        "c1=a_1+b1\n",
        "print(c1)\n",
        "#We can add Both Strings This is called Concatenation\n",
        "#f strings --> Put f in front of string use {} for variables.\n",
        "text=f\"My name is {c1}\"\n",
        "print(text)\n"
      ],
      "metadata": {
        "id": "AzFyvepkCbSK",
        "colab": {
          "base_uri": "https://localhost:8080/"
        },
        "outputId": "84b81ac8-be0c-4f76-a5f7-143b453ac997"
      },
      "execution_count": 19,
      "outputs": [
        {
          "output_type": "stream",
          "name": "stdout",
          "text": [
            "S\n",
            "RohithS D\n",
            "My name is RohithS D\n"
          ]
        }
      ]
    },
    {
      "cell_type": "code",
      "source": [
        "#Arthemetic Operation\n",
        "# Some operations are -->+,-,*,/,//,%,**\n",
        "# It will operate in BODMAS Rule\n",
        "print((4*5)-9+6/7)\n",
        "# // --> Floor Division : it will be always in form of int\n",
        "# /  --> Division : It will be in form of float.\n",
        "aone=2\n",
        "bone=3\n",
        "cone=2**3  #2^3\n",
        "print(cone)"
      ],
      "metadata": {
        "id": "ujrAeepQLwFW",
        "colab": {
          "base_uri": "https://localhost:8080/"
        },
        "outputId": "0ae0a163-a98d-4b46-c42d-6f452be2fddb"
      },
      "execution_count": 22,
      "outputs": [
        {
          "output_type": "stream",
          "name": "stdout",
          "text": [
            "11.857142857142858\n",
            "8\n"
          ]
        }
      ]
    },
    {
      "cell_type": "markdown",
      "source": [
        "# List"
      ],
      "metadata": {
        "id": "B69B4jczPCUp"
      }
    },
    {
      "cell_type": "code",
      "source": [
        "#List -->Order Sequence of mixed data type\n",
        "#Comma Seprated With square bracket\n",
        "#Mutable in nature , i.e we can change it\n",
        "#Accessed like array\n",
        "#Can have nested list like list inside list\n",
        "\n",
        "My_list=['Rohith S D', 750, 'Sadholalu' , 8.44]\n",
        "print(My_list)\n",
        "#To acces it\n",
        "print(My_list[2])\n",
        "print(len(My_list)) # Give the length of list\n",
        "\n",
        "My_list1=['Rohith S D', 750, 'Sadholalu' , 8.44,['presidency University', 'banglore']]\n",
        "print(My_list1)\n",
        "print(My_list1[4][0])#-->To acces list inside list\n",
        "\n",
        "#Slicing --> list_name=[st:end:stepcount]\n",
        "print(My_list1[0:3])\n",
        "print(My_list1[0:])\n",
        "print(My_list1[:-4])\n",
        "\n",
        "My_list2=['Software Enginnering',2 ,'b.tech in CSE']\n",
        "\n",
        "final_list=My_list1+My_list2\n",
        "print(final_list) # This term is called list concatenation\n",
        "print(len(final_list))\n",
        "\n",
        "new_list=final_list+ ['roopa ' , 'devaraju']\n",
        "print(new_list)# We can add in this way also\n",
        "\n",
        "# Membership in list\n",
        "print('Software Enginnering' in new_list) #-->tO CHECK WEATHER THE ELEMENT IS FOUND IN THE LIST OR NOT , RETURNS BOOLEAN VALUES\n",
        "\n",
        "#Mutabillity --> Mean we can change , the list is mutable in nature\n",
        "new_list[5]='Full-Stack Developer'\n",
        "print(new_list)#['Rohith S D', 750, 'Sadholalu', 8.44, ['presidency University', 'banglore'], 'Full-Stack Developer', 2, 'b.tech in CSE', 'roopa ', 'devaraju'] See the chnges in the index 5.\n",
        "\n",
        "\n",
        "#List Functions\n",
        "#extend\n",
        "\n",
        "cars = ['Ford', 'BMW', 'Volvo']\n",
        "cars.extend(['inova','marithi800'])\n",
        "print(cars)\n",
        "# append\n",
        "fruits = ['apple', 'banana', 'cherry']\n",
        "fruits.append(\"orange\")\n",
        "fruits.append(['mango','kiwi'])\n",
        "print(fruits)#See the changes of extend and append\n",
        "\n",
        "#delete\n",
        "del fruits[1]\n",
        "print(fruits)\n",
        "fruits.pop(2)\n",
        "print(fruits)\n",
        "fruits.remove('apple')\n",
        "print(fruits)\n",
        "\n",
        "#sort\n",
        "theone=[252,4 ,55 ,32,9 ,5,151,525,4846,216,484,515]\n",
        "theone.sort()\n",
        "print(theone)\n",
        "theone.sort(reverse=True)\n",
        "print(theone)"
      ],
      "metadata": {
        "id": "-rzqaQOUNOs7",
        "colab": {
          "base_uri": "https://localhost:8080/"
        },
        "outputId": "c90faf1f-b5a5-4dac-c27a-e40432fabf8e"
      },
      "execution_count": 54,
      "outputs": [
        {
          "output_type": "stream",
          "name": "stdout",
          "text": [
            "['Rohith S D', 750, 'Sadholalu', 8.44]\n",
            "Sadholalu\n",
            "4\n",
            "['Rohith S D', 750, 'Sadholalu', 8.44, ['presidency University', 'banglore']]\n",
            "presidency University\n",
            "['Rohith S D', 750, 'Sadholalu']\n",
            "['Rohith S D', 750, 'Sadholalu', 8.44, ['presidency University', 'banglore']]\n",
            "['Rohith S D']\n",
            "['Rohith S D', 750, 'Sadholalu', 8.44, ['presidency University', 'banglore'], 'Software Enginnering', 2, 'b.tech in CSE']\n",
            "8\n",
            "['Rohith S D', 750, 'Sadholalu', 8.44, ['presidency University', 'banglore'], 'Software Enginnering', 2, 'b.tech in CSE', 'roopa ', 'devaraju']\n",
            "True\n",
            "['Rohith S D', 750, 'Sadholalu', 8.44, ['presidency University', 'banglore'], 'Full-Stack Developer', 2, 'b.tech in CSE', 'roopa ', 'devaraju']\n",
            "['Ford', 'BMW', 'Volvo', 'inova', 'marithi800']\n",
            "['apple', 'banana', 'cherry', 'orange', ['mango', 'kiwi']]\n",
            "['apple', 'cherry', 'orange', ['mango', 'kiwi']]\n",
            "['apple', 'cherry', ['mango', 'kiwi']]\n",
            "['cherry', ['mango', 'kiwi']]\n",
            "[4, 5, 9, 32, 55, 151, 216, 252, 484, 515, 525, 4846]\n",
            "[4846, 525, 515, 484, 252, 216, 151, 55, 32, 9, 5, 4]\n"
          ]
        }
      ]
    }
  ]
}